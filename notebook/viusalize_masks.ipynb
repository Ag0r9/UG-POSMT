{
 "cells": [
  {
   "cell_type": "code",
   "execution_count": 2,
   "metadata": {},
   "outputs": [
    {
     "name": "stdout",
     "output_type": "stream",
     "text": [
      "WARNING:tensorflow:From C:\\Users\\Janek\\AppData\\Roaming\\Python\\Python39\\site-packages\\keras\\src\\losses.py:2976: The name tf.losses.sparse_softmax_cross_entropy is deprecated. Please use tf.compat.v1.losses.sparse_softmax_cross_entropy instead.\n",
      "\n"
     ]
    }
   ],
   "source": [
    "import sys\n",
    "sys.path.insert(0, './../src/')\n",
    "from MaskGenerator import MaskGenerator\n",
    "from tensorflow import linalg, ones\n",
    "import numpy as np\n",
    "import matplotlib.pyplot as plt\n"
   ]
  },
  {
   "cell_type": "code",
   "execution_count": 3,
   "metadata": {},
   "outputs": [],
   "source": [
    " \n",
    "def lookahead_mask(text):\n",
    "    shape = len(text.split())\n",
    "    mask = 1 - linalg.band_part(ones((shape, shape)), -1, 0)\n",
    "    inverted_mask = 1 - mask\n",
    "    int_list_of_lists = [\n",
    "        [int(tensor.numpy()) for tensor in sublist] for sublist in inverted_mask\n",
    "    ]\n",
    "\n",
    "    return int_list_of_lists"
   ]
  },
  {
   "cell_type": "code",
   "execution_count": 4,
   "metadata": {},
   "outputs": [
    {
     "name": "stderr",
     "output_type": "stream",
     "text": [
      "\u001b[32m2024-01-23 22:35:57.641\u001b[0m | \u001b[1mINFO    \u001b[0m | \u001b[36mMaskGenerator\u001b[0m:\u001b[36m__init__\u001b[0m:\u001b[36m61\u001b[0m - \u001b[1mLoaded <spacy.lang.en.English object at 0x0000028ACFD559D0>\u001b[0m\n"
     ]
    }
   ],
   "source": [
    "mask_gen = MaskGenerator(False,False,False,'en')\n",
    "input_sentence = \"Apple is definitely looking at buying apples in U.K.\"\n",
    "input_sentence_len = len(input_sentence.split())\n",
    "matrix = np.ones((input_sentence_len, input_sentence_len))\n"
   ]
  },
  {
   "cell_type": "code",
   "execution_count": 5,
   "metadata": {},
   "outputs": [],
   "source": [
    "def plot_matrix_color(matrix):\n",
    "    plt.imshow(matrix, cmap='viridis', interpolation='nearest')\n",
    "    for i in range(len(matrix)):\n",
    "        for j in range(len(matrix[0])):\n",
    "            plt.text(j, i, str(matrix[i][j]), ha='center', va='center', color='r')"
   ]
  },
  {
   "cell_type": "code",
   "execution_count": 6,
   "metadata": {},
   "outputs": [],
   "source": [
    "def plot_matrix(matrix):\n",
    "    plt.imshow(matrix, cmap='gray', interpolation='nearest')\n",
    "    for i in range(len(matrix)):\n",
    "        for j in range(len(matrix[0])):\n",
    "            plt.text(j, i, str(matrix[i][j]), ha='center', va='center', color='r')"
   ]
  },
  {
   "cell_type": "code",
   "execution_count": 7,
   "metadata": {},
   "outputs": [
    {
     "data": {
      "image/png": "[encoded data removed]",
      "text/plain": [
       "<Figure size 432x288 with 1 Axes>"
      ]
     },
     "metadata": {
      "needs_background": "light"
     },
     "output_type": "display_data"
    }
   ],
   "source": [
    "tensor = lookahead_mask(input_sentence)\n",
    "plot_matrix(tensor)"
   ]
  },
  {
   "cell_type": "code",
   "execution_count": 8,
   "metadata": {},
   "outputs": [
    {
     "name": "stderr",
     "output_type": "stream",
     "text": [
      "\u001b[32m2024-01-23 22:35:58.038\u001b[0m | \u001b[1mINFO    \u001b[0m | \u001b[36mMaskGenerator\u001b[0m:\u001b[36mgenerate_mask\u001b[0m:\u001b[36m144\u001b[0m - \u001b[1mCreated empty mask with shape (9, 9)\u001b[0m\n",
      "\u001b[32m2024-01-23 22:35:58.039\u001b[0m | \u001b[34m\u001b[1mDEBUG   \u001b[0m | \u001b[36mMaskGenerator\u001b[0m:\u001b[36mgenerate_mask\u001b[0m:\u001b[36m150\u001b[0m - \u001b[34m\u001b[1mExtracted tokens info:\n",
      "[{'text': 'looking', 'pos': 'VERB', 'tag': 'VBG', 'position': 3, 'children': [{'text': 'Apple', 'pos': 'PROPN', 'tag': 'NNP', 'position': 0, 'children': []}, {'text': 'is', 'pos': 'AUX', 'tag': 'VBZ', 'position': 1, 'children': []}, {'text': 'definitely', 'pos': 'ADV', 'tag': 'RB', 'position': 2, 'children': []}, {'text': 'at', 'pos': 'ADP', 'tag': 'IN', 'position': 4, 'children': [{'text': 'buying', 'pos': 'VERB', 'tag': 'VBG', 'position': 5, 'children': [{'text': 'apples', 'pos': 'NOUN', 'tag': 'NNS', 'position': 6, 'children': []}, {'text': 'in', 'pos': 'ADP', 'tag': 'IN', 'position': 7, 'children': [{'text': 'U.K.', 'pos': 'PROPN', 'tag': 'NNP', 'position': 8, 'children': []}]}]}]}]}]\u001b[0m\n",
      "\u001b[32m2024-01-23 22:35:58.040\u001b[0m | \u001b[1mINFO    \u001b[0m | \u001b[36mMaskGenerator\u001b[0m:\u001b[36mgenerate_mask\u001b[0m:\u001b[36m153\u001b[0m - \u001b[1mMask filled for Apple is definitely looking at buying apples in U.K.\u001b[0m\n",
      "\u001b[32m2024-01-23 22:35:58.041\u001b[0m | \u001b[34m\u001b[1mDEBUG   \u001b[0m | \u001b[36mMaskGenerator\u001b[0m:\u001b[36mgenerate_mask\u001b[0m:\u001b[36m154\u001b[0m - \u001b[34m\u001b[1mCreated mask:\n",
      "[[0. 0. 0. 1. 0. 0. 0. 0. 0.]\n",
      " [0. 0. 0. 1. 0. 0. 0. 0. 0.]\n",
      " [0. 0. 0. 1. 0. 0. 0. 0. 0.]\n",
      " [0. 0. 0. 0. 0. 0. 0. 0. 0.]\n",
      " [0. 0. 0. 1. 0. 0. 0. 0. 0.]\n",
      " [0. 0. 0. 0. 1. 0. 0. 0. 0.]\n",
      " [0. 0. 0. 0. 0. 1. 0. 0. 0.]\n",
      " [0. 0. 0. 0. 0. 1. 0. 0. 0.]\n",
      " [0. 0. 0. 0. 0. 0. 0. 1. 0.]]\u001b[0m\n"
     ]
    },
    {
     "data": {
      "image/png": "[encoded data removed]",
      "text/plain": [
       "<Figure size 432x288 with 1 Axes>"
      ]
     },
     "metadata": {
      "needs_background": "light"
     },
     "output_type": "display_data"
    }
   ],
   "source": [
    "tensor = mask_gen.generate_mask(input_sentence)\n",
    "plot_matrix(tensor)"
   ]
  },
  {
   "cell_type": "code",
   "execution_count": 9,
   "metadata": {},
   "outputs": [],
   "source": [
    "def generate_stochastic_matrix(size):\n",
    "    if size <= 0:\n",
    "        raise ValueError(\"Rozmiar macierzy musi być większy niż 0\")\n",
    "\n",
    "    matrix = np.zeros((size, size))\n",
    "\n",
    "    sums = np.ones((2, size))  # pierwszy wiersz to suma wierszy, drugi to suma kolumn \n",
    "\n",
    "    for i in range(size):\n",
    "        if i!=size-1:\n",
    "            matrix[i, i] = np.round(np.random.uniform(0.3, 0.55), 2)\n",
    "            sums[0,i]-=matrix[i, i]\n",
    "            sums[1][i]-=matrix[i,i]\n",
    "        for j in range(size-1):\n",
    "            if i==j:\n",
    "                continue\n",
    "            value = np.round(np.random.uniform(0.01, 0.5*np.min([sums[0][i], sums[1][j]])), 2)\n",
    "            sums[0][i] -= value\n",
    "            sums[1][j] -= value\n",
    "            matrix[i, j] = value\n",
    "        matrix[i][size-1] = np.round(sums[0][i],2)\n",
    "    return matrix\n"
   ]
  },
  {
   "cell_type": "code",
   "execution_count": 10,
   "metadata": {},
   "outputs": [],
   "source": [
    "def multiply_elementwise(matrix1, matrix2):\n",
    "    result_matrix = [[0 for _ in range(len(matrix1[0]))] for _ in range(len(matrix1))]\n",
    "\n",
    "    for i in range(len(matrix1)):\n",
    "        for j in range(len(matrix1[0])):\n",
    "            result_matrix[i][j] = matrix1[i][j] * matrix2[i][j]\n",
    "\n",
    "    return result_matrix\n"
   ]
  },
  {
   "cell_type": "code",
   "execution_count": 11,
   "metadata": {},
   "outputs": [
    {
     "name": "stderr",
     "output_type": "stream",
     "text": [
      "\u001b[32m2024-01-23 22:35:58.853\u001b[0m | \u001b[1mINFO    \u001b[0m | \u001b[36mMaskGenerator\u001b[0m:\u001b[36m__init__\u001b[0m:\u001b[36m61\u001b[0m - \u001b[1mLoaded <spacy.lang.en.English object at 0x0000028AD1C5FB20>\u001b[0m\n",
      "\u001b[32m2024-01-23 22:35:58.861\u001b[0m | \u001b[1mINFO    \u001b[0m | \u001b[36mMaskGenerator\u001b[0m:\u001b[36mgenerate_mask\u001b[0m:\u001b[36m144\u001b[0m - \u001b[1mCreated empty mask with shape (9, 9)\u001b[0m\n",
      "\u001b[32m2024-01-23 22:35:58.863\u001b[0m | \u001b[34m\u001b[1mDEBUG   \u001b[0m | \u001b[36mMaskGenerator\u001b[0m:\u001b[36mgenerate_mask\u001b[0m:\u001b[36m150\u001b[0m - \u001b[34m\u001b[1mExtracted tokens info:\n",
      "[{'text': 'looking', 'pos': 'VERB', 'tag': 'VBG', 'position': 3, 'children': [{'text': 'Apple', 'pos': 'PROPN', 'tag': 'NNP', 'position': 0, 'children': []}, {'text': 'is', 'pos': 'AUX', 'tag': 'VBZ', 'position': 1, 'children': []}, {'text': 'definitely', 'pos': 'ADV', 'tag': 'RB', 'position': 2, 'children': []}, {'text': 'at', 'pos': 'ADP', 'tag': 'IN', 'position': 4, 'children': [{'text': 'buying', 'pos': 'VERB', 'tag': 'VBG', 'position': 5, 'children': [{'text': 'apples', 'pos': 'NOUN', 'tag': 'NNS', 'position': 6, 'children': []}, {'text': 'in', 'pos': 'ADP', 'tag': 'IN', 'position': 7, 'children': [{'text': 'U.K.', 'pos': 'PROPN', 'tag': 'NNP', 'position': 8, 'children': []}]}]}]}]}]\u001b[0m\n",
      "\u001b[32m2024-01-23 22:35:58.863\u001b[0m | \u001b[1mINFO    \u001b[0m | \u001b[36mMaskGenerator\u001b[0m:\u001b[36mgenerate_mask\u001b[0m:\u001b[36m153\u001b[0m - \u001b[1mMask filled for Apple is definitely looking at buying apples in U.K.\u001b[0m\n",
      "\u001b[32m2024-01-23 22:35:58.863\u001b[0m | \u001b[34m\u001b[1mDEBUG   \u001b[0m | \u001b[36mMaskGenerator\u001b[0m:\u001b[36mgenerate_mask\u001b[0m:\u001b[36m154\u001b[0m - \u001b[34m\u001b[1mCreated mask:\n",
      "[[0. 0. 0. 1. 0. 0. 0. 0. 0.]\n",
      " [0. 0. 0. 1. 0. 0. 0. 0. 0.]\n",
      " [0. 0. 0. 1. 0. 0. 0. 0. 0.]\n",
      " [0. 0. 0. 0. 0. 0. 0. 0. 0.]\n",
      " [0. 0. 0. 1. 0. 0. 0. 0. 0.]\n",
      " [0. 0. 0. 0. 1. 0. 0. 0. 0.]\n",
      " [0. 0. 0. 0. 0. 1. 0. 0. 0.]\n",
      " [0. 0. 0. 0. 0. 1. 0. 0. 0.]\n",
      " [0. 0. 0. 0. 0. 0. 0. 1. 0.]]\u001b[0m\n"
     ]
    },
    {
     "data": {
      "text/plain": [
       "[[0.0, 0.0, 0.0, 0.07, 0.0, 0.0, 0.0, 0.0, 0.0],\n",
       " [0.0, 0.0, 0.0, 0.1, 0.0, 0.0, 0.0, 0.0, 0.0],\n",
       " [0.0, 0.0, 0.0, 0.01, 0.0, 0.0, 0.0, 0.0, 0.0],\n",
       " [0.0, 0.0, 0.0, 0.0, 0.0, 0.0, 0.0, 0.0, 0.0],\n",
       " [0.0, 0.0, 0.0, 0.15, 0.0, 0.0, 0.0, 0.0, 0.0],\n",
       " [0.0, 0.0, 0.0, 0.0, 0.04, 0.0, 0.0, 0.0, 0.0],\n",
       " [0.0, 0.0, 0.0, 0.0, 0.0, 0.12, 0.0, 0.0, 0.0],\n",
       " [0.0, 0.0, 0.0, 0.0, 0.0, 0.03, 0.0, 0.0, 0.0],\n",
       " [0.0, 0.0, 0.0, 0.0, 0.0, 0.0, 0.0, 0.05, 0.0]]"
      ]
     },
     "execution_count": 11,
     "metadata": {},
     "output_type": "execute_result"
    },
    {
     "data": {
      "image/png": "[encoded data removed]",
      "text/plain": [
       "<Figure size 432x288 with 1 Axes>"
      ]
     },
     "metadata": {
      "needs_background": "light"
     },
     "output_type": "display_data"
    }
   ],
   "source": [
    "matrix1 =  MaskGenerator(False,False,False,'en').generate_mask(input_sentence)\n",
    "matrix2 = generate_stochastic_matrix(input_sentence_len)\n",
    "plot_matrix_color(multiply_elementwise(matrix1, matrix2))\n",
    "multiply_elementwise(matrix1,matrix2)"
   ]
  },
  {
   "cell_type": "code",
   "execution_count": 12,
   "metadata": {},
   "outputs": [
    {
     "data": {
      "image/png": "[encoded data removed]",
      "text/plain": [
       "<Figure size 432x288 with 1 Axes>"
      ]
     },
     "metadata": {
      "needs_background": "light"
     },
     "output_type": "display_data"
    }
   ],
   "source": [
    "matrix1 =  lookahead_mask(input_sentence)\n",
    "matrix2 = generate_stochastic_matrix(input_sentence_len)\n",
    "plot_matrix_color( multiply_elementwise(matrix1, matrix2))"
   ]
  }
 ],
 "metadata": {
  "kernelspec": {
   "display_name": "Python 3",
   "language": "python",
   "name": "python3"
  },
  "language_info": {
   "codemirror_mode": {
    "name": "ipython",
    "version": 3
   },
   "file_extension": ".py",
   "mimetype": "text/x-python",
   "name": "python",
   "nbconvert_exporter": "python",
   "pygments_lexer": "ipython3",
   "version": "3.9.5"
  }
 },
 "nbformat": 4,
 "nbformat_minor": 2
}
