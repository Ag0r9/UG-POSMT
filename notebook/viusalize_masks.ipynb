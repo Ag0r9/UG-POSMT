{
 "cells": [
  {
   "cell_type": "code",
   "execution_count": 15,
   "metadata": {},
   "outputs": [],
   "source": [
    "from typing import Any, Optional\n",
    "\n",
    "import numpy as np\n",
    "import spacy\n",
    "from loguru import logger\n",
    "from spacy.language import Language\n",
    "from spacy.tokens import Doc, Token\n",
    "\n",
    "\n",
    "class MaskGenerator:\n",
    "    \"\"\"\n",
    "    Generates a mask based on the input text using spaCy library.\n",
    "\n",
    "    Args:\n",
    "        shallow (bool, optional): Specifies whether to use shallow masking. Defaults to True.\n",
    "\n",
    "    Attributes:\n",
    "        shallow (bool): Specifies whether to use shallow masking.\n",
    "        en_core (Language): The spaCy language model.\n",
    "        mask (np.ndarray | None): The generated mask.\n",
    "\n",
    "    Methods:\n",
    "        extract_token_info: Extracts information about a token.\n",
    "        fill_mask: Fills the mask based on the token information.\n",
    "        generate_mask: Generates the mask based on the input text.\n",
    "    \"\"\"\n",
    "\n",
    "    def __init__(self, shallow: bool = True, look_at_children: bool = False) -> None:\n",
    "        self.shallow: bool = shallow\n",
    "        self.look_at_children: bool = look_at_children\n",
    "        try:\n",
    "            model_name = \"en_core_web_sm\"\n",
    "            self.en_core: Language = spacy.load(model_name)\n",
    "            logger.info(f\"Loaded {model_name}\")\n",
    "        except OSError:\n",
    "            raise ModuleNotFoundError(\"Language core not found. Try `make lang`\")\n",
    "        self.mask: np.ndarray\n",
    "\n",
    "    def extract_token_info(self, token: Token) -> dict[str, Any]:\n",
    "        token_info = {\n",
    "            \"text\": token.text,\n",
    "            \"pos\": token.pos_,\n",
    "            \"tag\": token.tag_,\n",
    "            \"position\": token.i,\n",
    "            \"children\": [\n",
    "                self.extract_token_info(token=child) for child in token.children\n",
    "            ],\n",
    "        }\n",
    "        return token_info\n",
    "\n",
    "    def fill_mask(\n",
    "        self, tokens_info: list[dict[str, Any]], parent_position:  Optional[int] = None\n",
    "    ):\n",
    "        for token in tokens_info:\n",
    "            if parent_position:\n",
    "                if self.shallow:\n",
    "                    self.mask[token.get(\"position\"), parent_position] = 1\n",
    "                else:\n",
    "                    self.mask[token.get(\"position\")] = self.mask[parent_position]\n",
    "\n",
    "            self.mask[token.get(\"position\"), token.get(\"position\")] = 1\n",
    "\n",
    "            if self.look_at_children:\n",
    "                self.mask[\n",
    "                    token.get(\"position\"),\n",
    "                    [child.get(\"position\") for child in token.get(\"children\", [])],\n",
    "                ] = 1\n",
    "            self.fill_mask(\n",
    "                tokens_info=token.get(\"children\", []),\n",
    "                parent_position=token.get(\"position\"),\n",
    "            )\n",
    "\n",
    "    def generate_mask(self, input: str):\n",
    "        doc: Doc = self.en_core(input)\n",
    "        tokens_info: list[dict[str, Any]] = []\n",
    "        n: int = len(doc)\n",
    "        self.mask = np.zeros((n, n))\n",
    "        logger.info(f\"Created empty mask with shape {self.mask.shape}\")\n",
    "\n",
    "        for token in doc:\n",
    "            if token.dep_ == \"ROOT\":\n",
    "                token_info: dict[str, Any] = self.extract_token_info(token=token)\n",
    "                tokens_info.append(token_info)\n",
    "        logger.debug(f\"Extracted tokens info:\\n{tokens_info}\")\n",
    "\n",
    "        self.fill_mask(tokens_info=tokens_info)\n",
    "        logger.info(f\"Mask filled for {input}\")\n",
    "        logger.debug(f\"Created mask:\\n{self.mask}\")\n",
    "        return self.mask\n",
    "\n"
   ]
  },
  {
   "cell_type": "code",
   "execution_count": 16,
   "metadata": {},
   "outputs": [],
   "source": [
    "from tensorflow import linalg, ones\n",
    " \n",
    "def lookahead_mask(text):\n",
    "    shape = len(text.split())\n",
    "    mask = 1 - linalg.band_part(ones((shape, shape)), -1, 0)\n",
    " \n",
    "    return mask"
   ]
  },
  {
   "cell_type": "code",
   "execution_count": 34,
   "metadata": {},
   "outputs": [
    {
     "name": "stderr",
     "output_type": "stream",
     "text": [
      "\u001b[32m2024-01-23 16:08:56.461\u001b[0m | \u001b[1mINFO    \u001b[0m | \u001b[36m__main__\u001b[0m:\u001b[36m__init__\u001b[0m:\u001b[36m34\u001b[0m - \u001b[1mLoaded en_core_web_sm\u001b[0m\n"
     ]
    }
   ],
   "source": [
    "mask_gen = MaskGenerator()\n",
    "input_sentence = \"Apple is looking at buying apples in U.K.\"\n",
    "input_sentence_len = len(input_sentence.split())\n",
    "matrix = np.ones((input_sentence_len, input_sentence_len))\n"
   ]
  },
  {
   "cell_type": "code",
   "execution_count": 18,
   "metadata": {},
   "outputs": [],
   "source": [
    "import matplotlib.pyplot as plt\n",
    "def plot_tensor(tensor):\n",
    "    plt.imshow(tensor, cmap='gray', interpolation='none')\n",
    "    for i in range(tensor.shape[0]):\n",
    "        for j in range(tensor.shape[1]):\n",
    "            plt.text(j, i, f'{tensor[i, j]:.0f}', ha='center', va='center', color='r')\n",
    "    plt.show()"
   ]
  },
  {
   "cell_type": "code",
   "execution_count": 35,
   "metadata": {},
   "outputs": [
    {
     "data": {
      "image/png": "[encoded data removed]",
      "text/plain": [
       "<Figure size 432x288 with 1 Axes>"
      ]
     },
     "metadata": {
      "needs_background": "light"
     },
     "output_type": "display_data"
    }
   ],
   "source": [
    "tensor = lookahead_mask(input_sentence)\n",
    "plot_tensor(tensor)"
   ]
  },
  {
   "cell_type": "code",
   "execution_count": 36,
   "metadata": {},
   "outputs": [
    {
     "name": "stderr",
     "output_type": "stream",
     "text": [
      "\u001b[32m2024-01-23 16:09:02.865\u001b[0m | \u001b[1mINFO    \u001b[0m | \u001b[36m__main__\u001b[0m:\u001b[36mgenerate_mask\u001b[0m:\u001b[36m78\u001b[0m - \u001b[1mCreated empty mask with shape (8, 8)\u001b[0m\n",
      "\u001b[32m2024-01-23 16:09:02.873\u001b[0m | \u001b[34m\u001b[1mDEBUG   \u001b[0m | \u001b[36m__main__\u001b[0m:\u001b[36mgenerate_mask\u001b[0m:\u001b[36m84\u001b[0m - \u001b[34m\u001b[1mExtracted tokens info:\n",
      "[{'text': 'looking', 'pos': 'VERB', 'tag': 'VBG', 'position': 2, 'children': [{'text': 'Apple', 'pos': 'PROPN', 'tag': 'NNP', 'position': 0, 'children': []}, {'text': 'is', 'pos': 'AUX', 'tag': 'VBZ', 'position': 1, 'children': []}, {'text': 'at', 'pos': 'ADP', 'tag': 'IN', 'position': 3, 'children': [{'text': 'buying', 'pos': 'VERB', 'tag': 'VBG', 'position': 4, 'children': [{'text': 'apples', 'pos': 'NOUN', 'tag': 'NNS', 'position': 5, 'children': []}, {'text': 'in', 'pos': 'ADP', 'tag': 'IN', 'position': 6, 'children': [{'text': 'U.K.', 'pos': 'PROPN', 'tag': 'NNP', 'position': 7, 'children': []}]}]}]}]}]\u001b[0m\n",
      "\u001b[32m2024-01-23 16:09:02.873\u001b[0m | \u001b[1mINFO    \u001b[0m | \u001b[36m__main__\u001b[0m:\u001b[36mgenerate_mask\u001b[0m:\u001b[36m87\u001b[0m - \u001b[1mMask filled for Apple is looking at buying apples in U.K.\u001b[0m\n",
      "\u001b[32m2024-01-23 16:09:02.873\u001b[0m | \u001b[34m\u001b[1mDEBUG   \u001b[0m | \u001b[36m__main__\u001b[0m:\u001b[36mgenerate_mask\u001b[0m:\u001b[36m88\u001b[0m - \u001b[34m\u001b[1mCreated mask:\n",
      "[[1. 0. 1. 0. 0. 0. 0. 0.]\n",
      " [0. 1. 1. 0. 0. 0. 0. 0.]\n",
      " [0. 0. 1. 0. 0. 0. 0. 0.]\n",
      " [0. 0. 1. 1. 0. 0. 0. 0.]\n",
      " [0. 0. 0. 1. 1. 0. 0. 0.]\n",
      " [0. 0. 0. 0. 1. 1. 0. 0.]\n",
      " [0. 0. 0. 0. 1. 0. 1. 0.]\n",
      " [0. 0. 0. 0. 0. 0. 1. 1.]]\u001b[0m\n"
     ]
    },
    {
     "data": {
      "image/png": "[encoded data removed]",
      "text/plain": [
       "<Figure size 432x288 with 1 Axes>"
      ]
     },
     "metadata": {
      "needs_background": "light"
     },
     "output_type": "display_data"
    }
   ],
   "source": [
    "tensor = mask_gen.generate_mask(input_sentence)\n",
    "plot_tensor(tensor)"
   ]
  },
  {
   "cell_type": "code",
   "execution_count": 29,
   "metadata": {},
   "outputs": [],
   "source": [
    "import numpy as np\n",
    "\n",
    "def generate_stochastic_matrix(size):\n",
    "    if size <= 0:\n",
    "        raise ValueError(\"Rozmiar macierzy musi być większy niż 0\")\n",
    "\n",
    "    matrix = np.zeros((size, size))\n",
    "\n",
    "    sums = np.ones((2, size))  # pierwszy wiersz to suma wierszy, drugi to suma kolumn \n",
    "\n",
    "    for i in range(size):\n",
    "        if i!=size-1:\n",
    "            matrix[i, i] = np.round(np.random.uniform(0.3, 0.55), 2)\n",
    "            sums[0,i]-=matrix[i, i]\n",
    "            sums[1][i]-=matrix[i,i]\n",
    "        for j in range(size-1):\n",
    "            if i==j:\n",
    "                continue\n",
    "            value = np.round(np.random.uniform(0.01, 0.5*np.min([sums[0][i], sums[1][j]])), 2)\n",
    "            sums[0][i] -= value\n",
    "            sums[1][j] -= value\n",
    "            matrix[i, j] = value\n",
    "        matrix[i][size-1] = np.round(sums[0][i],2)\n",
    "    return matrix\n"
   ]
  },
  {
   "cell_type": "code",
   "execution_count": 22,
   "metadata": {},
   "outputs": [],
   "source": [
    "def multiply_elementwise(matrix1, matrix2):\n",
    "    result_matrix = [[0 for _ in range(len(matrix1[0]))] for _ in range(len(matrix1))]\n",
    "\n",
    "    for i in range(len(matrix1)):\n",
    "        for j in range(len(matrix1[0])):\n",
    "            result_matrix[i][j] = matrix1[i][j] * matrix2[i][j]\n",
    "\n",
    "    return result_matrix\n"
   ]
  },
  {
   "cell_type": "code",
   "execution_count": 23,
   "metadata": {},
   "outputs": [],
   "source": [
    "def plot_matrix(matrix):\n",
    "    plt.imshow(matrix, cmap='viridis', interpolation='nearest')\n",
    "    for i in range(len(matrix)):\n",
    "        for j in range(len(matrix[0])):\n",
    "            plt.text(j, i, str(matrix[i][j]), ha='center', va='center', color='w')"
   ]
  },
  {
   "cell_type": "code",
   "execution_count": 37,
   "metadata": {},
   "outputs": [
    {
     "name": "stderr",
     "output_type": "stream",
     "text": [
      "\u001b[32m2024-01-23 16:09:12.564\u001b[0m | \u001b[1mINFO    \u001b[0m | \u001b[36m__main__\u001b[0m:\u001b[36m__init__\u001b[0m:\u001b[36m34\u001b[0m - \u001b[1mLoaded en_core_web_sm\u001b[0m\n",
      "\u001b[32m2024-01-23 16:09:12.581\u001b[0m | \u001b[1mINFO    \u001b[0m | \u001b[36m__main__\u001b[0m:\u001b[36mgenerate_mask\u001b[0m:\u001b[36m78\u001b[0m - \u001b[1mCreated empty mask with shape (8, 8)\u001b[0m\n",
      "\u001b[32m2024-01-23 16:09:12.581\u001b[0m | \u001b[34m\u001b[1mDEBUG   \u001b[0m | \u001b[36m__main__\u001b[0m:\u001b[36mgenerate_mask\u001b[0m:\u001b[36m84\u001b[0m - \u001b[34m\u001b[1mExtracted tokens info:\n",
      "[{'text': 'looking', 'pos': 'VERB', 'tag': 'VBG', 'position': 2, 'children': [{'text': 'Apple', 'pos': 'PROPN', 'tag': 'NNP', 'position': 0, 'children': []}, {'text': 'is', 'pos': 'AUX', 'tag': 'VBZ', 'position': 1, 'children': []}, {'text': 'at', 'pos': 'ADP', 'tag': 'IN', 'position': 3, 'children': [{'text': 'buying', 'pos': 'VERB', 'tag': 'VBG', 'position': 4, 'children': [{'text': 'apples', 'pos': 'NOUN', 'tag': 'NNS', 'position': 5, 'children': []}, {'text': 'in', 'pos': 'ADP', 'tag': 'IN', 'position': 6, 'children': [{'text': 'U.K.', 'pos': 'PROPN', 'tag': 'NNP', 'position': 7, 'children': []}]}]}]}]}]\u001b[0m\n",
      "\u001b[32m2024-01-23 16:09:12.584\u001b[0m | \u001b[1mINFO    \u001b[0m | \u001b[36m__main__\u001b[0m:\u001b[36mgenerate_mask\u001b[0m:\u001b[36m87\u001b[0m - \u001b[1mMask filled for Apple is looking at buying apples in U.K.\u001b[0m\n",
      "\u001b[32m2024-01-23 16:09:12.584\u001b[0m | \u001b[34m\u001b[1mDEBUG   \u001b[0m | \u001b[36m__main__\u001b[0m:\u001b[36mgenerate_mask\u001b[0m:\u001b[36m88\u001b[0m - \u001b[34m\u001b[1mCreated mask:\n",
      "[[1. 0. 1. 0. 0. 0. 0. 0.]\n",
      " [0. 1. 1. 0. 0. 0. 0. 0.]\n",
      " [0. 0. 1. 0. 0. 0. 0. 0.]\n",
      " [0. 0. 1. 1. 0. 0. 0. 0.]\n",
      " [0. 0. 0. 1. 1. 0. 0. 0.]\n",
      " [0. 0. 0. 0. 1. 1. 0. 0.]\n",
      " [0. 0. 0. 0. 1. 0. 1. 0.]\n",
      " [0. 0. 0. 0. 0. 0. 1. 1.]]\u001b[0m\n"
     ]
    },
    {
     "data": {
      "image/png": "[encoded data removed]",
      "text/plain": [
       "<Figure size 432x288 with 1 Axes>"
      ]
     },
     "metadata": {
      "needs_background": "light"
     },
     "output_type": "display_data"
    }
   ],
   "source": [
    "matrix1 =  MaskGenerator().generate_mask(input_sentence)\n",
    "matrix2 = generate_stochastic_matrix(input_sentence_len)\n",
    "plot_matrix(multiply_elementwise(matrix1, matrix2))"
   ]
  }
 ],
 "metadata": {
  "kernelspec": {
   "display_name": "Python 3",
   "language": "python",
   "name": "python3"
  },
  "language_info": {
   "codemirror_mode": {
    "name": "ipython",
    "version": 3
   },
   "file_extension": ".py",
   "mimetype": "text/x-python",
   "name": "python",
   "nbconvert_exporter": "python",
   "pygments_lexer": "ipython3",
   "version": "3.9.5"
  }
 },
 "nbformat": 4,
 "nbformat_minor": 2
}
